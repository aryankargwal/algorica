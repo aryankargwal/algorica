{
 "metadata": {
  "language_info": {
   "codemirror_mode": {
    "name": "ipython",
    "version": 3
   },
   "file_extension": ".py",
   "mimetype": "text/x-python",
   "name": "python",
   "nbconvert_exporter": "python",
   "pygments_lexer": "ipython3",
   "version": "3.8.5"
  },
  "orig_nbformat": 2,
  "kernelspec": {
   "name": "python385jvsc74a57bd065d1199df892a8494ec0233a796b092f32d19565fe71f4c8f3c9052958d423a0",
   "display_name": "Python 3.8.5 64-bit ('base': conda)"
  }
 },
 "nbformat": 4,
 "nbformat_minor": 2,
 "cells": [
  {
   "cell_type": "code",
   "execution_count": 1,
   "metadata": {},
   "outputs": [],
   "source": [
    "# Imports\n",
    "import numpy as np\n",
    "import matplotlib.pyplot as plt\n",
    "from scipy.stats import mode"
   ]
  },
  {
   "cell_type": "code",
   "execution_count": 2,
   "metadata": {},
   "outputs": [],
   "source": [
    "# Defining euclidian distance\n",
    "def eucledian(p1,p2):\n",
    "    dist = np.sqrt(np.sum((p1-p2)**2))\n",
    "    return dist"
   ]
  },
  {
   "cell_type": "code",
   "execution_count": 3,
   "metadata": {},
   "outputs": [],
   "source": [
    "# Defining KNN\n",
    "def predict(x_train, y , x_input, k):\n",
    "    op_labels = []\n",
    "     \n",
    "    #Loop through the Datapoints to be classified\n",
    "    for item in x_input: \n",
    "         \n",
    "        #Array to store distances\n",
    "        point_dist = []\n",
    "         \n",
    "        #Loop through each training Data\n",
    "        for j in range(len(x_train)): \n",
    "            distances = eucledian(np.array(x_train[j,:]) , item) \n",
    "            #Calculating the distance\n",
    "            point_dist.append(distances) \n",
    "        point_dist = np.array(point_dist) \n",
    "         \n",
    "        #Sorting the array while preserving the index\n",
    "        #Keeping the first K datapoints\n",
    "        dist = np.argsort(point_dist)[:k] \n",
    "         \n",
    "        #Labels of the K datapoints from above\n",
    "        labels = y[dist]\n",
    "         \n",
    "        #Majority voting\n",
    "        lab = mode(labels) \n",
    "        lab = lab.mode[0]\n",
    "        op_labels.append(lab)\n",
    " \n",
    "    return op_labels"
   ]
  },
  {
   "cell_type": "code",
   "execution_count": 4,
   "metadata": {},
   "outputs": [],
   "source": [
    "# Imports for the data and dataloader\n",
    "from sklearn.metrics import accuracy_score\n",
    "from sklearn.datasets import load_iris\n",
    "from numpy.random import randint"
   ]
  },
  {
   "cell_type": "code",
   "execution_count": 5,
   "metadata": {},
   "outputs": [],
   "source": [
    "# Storing data\n",
    "iris = load_iris()\n",
    "X= iris.data\n",
    "y= iris.target"
   ]
  },
  {
   "cell_type": "code",
   "execution_count": 6,
   "metadata": {},
   "outputs": [],
   "source": [
    "#Creating the training Data\n",
    "train_idx = xxx = randint(0,150,100)\n",
    "X_train = X[train_idx]\n",
    "y_train = y[train_idx]"
   ]
  },
  {
   "cell_type": "code",
   "execution_count": 7,
   "metadata": {},
   "outputs": [],
   "source": [
    "#Creating the testing Data\n",
    "test_idx = xxx = randint(0,150,50) #taking 50 random samples\n",
    "X_test = X[test_idx]\n",
    "y_test = y[test_idx]"
   ]
  },
  {
   "cell_type": "code",
   "execution_count": 8,
   "metadata": {},
   "outputs": [
    {
     "output_type": "execute_result",
     "data": {
      "text/plain": [
       "0.98"
      ]
     },
     "metadata": {},
     "execution_count": 8
    }
   ],
   "source": [
    "# Training and predicting\n",
    "y_pred = predict(X_train,y_train,X_test , 7)\n",
    " \n",
    "#Checking the accuracy\n",
    "accuracy_score(y_test, y_pred)"
   ]
  },
  {
   "cell_type": "code",
   "execution_count": null,
   "metadata": {},
   "outputs": [],
   "source": []
  }
 ]
}